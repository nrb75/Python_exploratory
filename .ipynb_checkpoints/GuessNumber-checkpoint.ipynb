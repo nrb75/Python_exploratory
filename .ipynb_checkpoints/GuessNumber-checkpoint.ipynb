{
 "cells": [
  {
   "cell_type": "markdown",
   "metadata": {},
   "source": [
    "A random number is generated, and then it asks for user input to guess the number. We will let the user know if she is too high or too low, then when they guess correctly we will congratulate them!"
   ]
  },
  {
   "cell_type": "code",
   "execution_count": 1,
   "metadata": {},
   "outputs": [],
   "source": [
    "import numpy as np\n",
    "import random"
   ]
  },
  {
   "cell_type": "code",
   "execution_count": 7,
   "metadata": {},
   "outputs": [],
   "source": [
    "numbers=range(0,21)\n",
    "target=random.choice(numbers)"
   ]
  },
  {
   "cell_type": "markdown",
   "metadata": {},
   "source": [
    "Ask a user to guess a number between 0-20, we don't want them guessing forever so we limit it to 5 trys."
   ]
  },
  {
   "cell_type": "code",
   "execution_count": 11,
   "metadata": {},
   "outputs": [
    {
     "name": "stdout",
     "output_type": "stream",
     "text": [
      "please guess a number\n",
      "3\n",
      "Your guess is too low\n",
      "please guess a number\n",
      "3\n",
      "Your guess is too low\n",
      "please guess a number\n",
      "3\n",
      "Your guess is too low\n",
      "please guess a number\n",
      "3\n",
      "Your guess is too low\n",
      "please guess a number\n",
      "3\n",
      "Your guess is too low\n",
      "please guess a number\n",
      "3\n",
      "Your guess is too low\n",
      "Sorry but you had 5 tries and did not guess my number:19\n"
     ]
    }
   ],
   "source": [
    "guesses = 0\n",
    "while guesses <5:\n",
    "    print('please guess a number')\n",
    "    guess = input()\n",
    "    guess=int(guess)\n",
    "    guesses+=1\n",
    "    if guess < target:\n",
    "        print('Your guess is too low')\n",
    "    if guess > target:\n",
    "        print ('Your guess is too high')\n",
    "    if guess == target:\n",
    "        break\n",
    "if guess == target:\n",
    "    print('Good job you guessed my number in' + guesses)\n",
    "if guess != target:\n",
    "    print('Sorry but you had 5 tries and did not guess my number:' + str(target))"
   ]
  },
  {
   "cell_type": "code",
   "execution_count": null,
   "metadata": {},
   "outputs": [],
   "source": []
  }
 ],
 "metadata": {
  "kernelspec": {
   "display_name": "Python 3",
   "language": "python",
   "name": "python3"
  },
  "language_info": {
   "codemirror_mode": {
    "name": "ipython",
    "version": 3
   },
   "file_extension": ".py",
   "mimetype": "text/x-python",
   "name": "python",
   "nbconvert_exporter": "python",
   "pygments_lexer": "ipython3",
   "version": "3.6.5"
  }
 },
 "nbformat": 4,
 "nbformat_minor": 2
}
