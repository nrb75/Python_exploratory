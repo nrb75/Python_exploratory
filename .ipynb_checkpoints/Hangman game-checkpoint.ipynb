{
 "cells": [
  {
   "cell_type": "markdown",
   "metadata": {},
   "source": [
    "Hangman game where a user inputs letters and we check to see if they have guessed our word correctly.\n",
    "We chose a simple word to start with and only allow the user 5 wrong guesses."
   ]
  },
  {
   "cell_type": "code",
   "execution_count": 54,
   "metadata": {},
   "outputs": [],
   "source": [
    "secret='jello'\n",
    "\n",
    "correctguesses=0\n",
    "wrongguesses=0\n",
    "attemptedword = ['*']*len(secret)"
   ]
  },
  {
   "cell_type": "code",
   "execution_count": null,
   "metadata": {},
   "outputs": [
    {
     "name": "stdout",
     "output_type": "stream",
     "text": [
      "j\n",
      "['j', '*', '*', '*', '*']\n",
      "nope\n",
      "i\n",
      "wrong guess, try again\n",
      "nope\n",
      "l\n",
      "['j', '*', 'l', 'l', '*']\n",
      "nope\n",
      "o\n",
      "['j', '*', 'l', 'l', 'o']\n",
      "nope\n",
      "e\n",
      "['j', 'e', 'l', 'l', 'o']\n",
      "you win!, my word was:jello\n"
     ]
    }
   ],
   "source": [
    "while wrongguesses <5:\n",
    "    guess=input()\n",
    "    guess = str(guess)\n",
    "    if guess in secret:\n",
    "        #index=secret.find(guess)\n",
    "        index= [i for i, letter in enumerate(secret) if letter == guess]#this is a list of indexes that letter matches, it may be more than one\n",
    "        for i in index:\n",
    "            attemptedword[i]=guess\n",
    "        correctguesses+=1\n",
    "        print(attemptedword)\n",
    "        strword = ''.join(attemptedword)\n",
    "    if guess not in secret:\n",
    "        wrongguesses+=1\n",
    "        print('wrong guess, try again')\n",
    "    if strword==secret:\n",
    "        print ('you win!, my word was:' + strword)\n",
    "    if strword!=secret:\n",
    "        print('nope')\n",
    "#if strword==secret:\n",
    "#    print('good job, you win!')\n",
    "#if strword!=secret:\n",
    "#    print('nope')\n"
   ]
  },
  {
   "cell_type": "code",
   "execution_count": null,
   "metadata": {},
   "outputs": [],
   "source": [
    "secret"
   ]
  },
  {
   "cell_type": "code",
   "execution_count": 51,
   "metadata": {},
   "outputs": [
    {
     "data": {
      "text/plain": [
       "['*', '*', '*', '*', '*']"
      ]
     },
     "execution_count": 51,
     "metadata": {},
     "output_type": "execute_result"
    }
   ],
   "source": [
    "attemptedword"
   ]
  },
  {
   "cell_type": "code",
   "execution_count": null,
   "metadata": {},
   "outputs": [],
   "source": []
  }
 ],
 "metadata": {
  "kernelspec": {
   "display_name": "Python 3",
   "language": "python",
   "name": "python3"
  },
  "language_info": {
   "codemirror_mode": {
    "name": "ipython",
    "version": 3
   },
   "file_extension": ".py",
   "mimetype": "text/x-python",
   "name": "python",
   "nbconvert_exporter": "python",
   "pygments_lexer": "ipython3",
   "version": "3.6.5"
  }
 },
 "nbformat": 4,
 "nbformat_minor": 2
}
