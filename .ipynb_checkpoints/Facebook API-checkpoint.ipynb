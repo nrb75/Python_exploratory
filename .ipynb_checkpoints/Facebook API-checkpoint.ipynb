{
 "cells": [
  {
   "cell_type": "markdown",
   "metadata": {},
   "source": [
    "## Preliminary notebook to learn about API and Python integration"
   ]
  },
  {
   "cell_type": "code",
   "execution_count": 10,
   "metadata": {},
   "outputs": [],
   "source": [
    "#make sure I am in the right environment in command prompt\n",
    "import sys\n",
    "sys.path.append(\"/home/natalie/anaconda3/envs/insight/lib/python3.6/site-packages\")\n",
    "\n",
    "sys.path.append(\"/home/natalie/anaconda3/pkgs/facebook-sdk-0.4.0-py_0/site-packages\")\n"
   ]
  },
  {
   "cell_type": "code",
   "execution_count": 12,
   "metadata": {},
   "outputs": [],
   "source": [
    "import urllib3\n",
    "import requests\n",
    "import facebook\n",
    "#needed a special install for the facebook-sdk package, in command promt:\n",
    "#virtualenv facebookenv\n",
    "#source facebookenv/bin/activate\n",
    "#pip install facebook-sdk\n"
   ]
  },
  {
   "cell_type": "markdown",
   "metadata": {},
   "source": [
    "Need to go to facebook and register as a developer for a specific access key"
   ]
  },
  {
   "cell_type": "code",
   "execution_count": null,
   "metadata": {},
   "outputs": [],
   "source": [
    "mytoken='EAAGfFBZBXTCsBAD6QZCzymPZBYuQwOZAXwcaxrbXnCH5RdrA09WSiwU996UYXLufB1pSHDZBQyYZCfI5bZC9kB18NQZBZBoObsCvwII7emrvsbyHT0RotRq8KK9MsAcUf38Ni8xuPgZCYrVby63r9F9K6WCaNtLJ9SfuEZCagFY79B03Jst55KHsJN64PUg4iZAPmP2L6ZCE6o2yYrQCNC7ol44DnmSHUxkJDFBsZD'"
   ]
  },
  {
   "cell_type": "code",
   "execution_count": 15,
   "metadata": {},
   "outputs": [
    {
     "ename": "SyntaxError",
     "evalue": "invalid character in identifier (<ipython-input-15-e0f967184eb9>, line 2)",
     "output_type": "error",
     "traceback": [
      "\u001b[0;36m  File \u001b[0;32m\"<ipython-input-15-e0f967184eb9>\"\u001b[0;36m, line \u001b[0;32m2\u001b[0m\n\u001b[0;31m    my_friends = graph.get_connections(id=’me’, connection_name=’friends’)\u001b[0m\n\u001b[0m                                             ^\u001b[0m\n\u001b[0;31mSyntaxError\u001b[0m\u001b[0;31m:\u001b[0m invalid character in identifier\n"
     ]
    }
   ],
   "source": [
    "graph = facebook.GraphAPI(access_token=mytoken, version = 3.6)\n",
    "my_friends = graph.get_connections(id=’me’, connection_name=’friends’)\n",
    "print (my_friends)"
   ]
  },
  {
   "cell_type": "markdown",
   "metadata": {},
   "source": [
    "Facebook has lots of restrictions for app creation, and tokens assocaited with the app, you need to have it reviewed by them before you can use it. As this is a test, I will not bother"
   ]
  }
 ],
 "metadata": {
  "kernelspec": {
   "display_name": "Python 3",
   "language": "python",
   "name": "python3"
  },
  "language_info": {
   "codemirror_mode": {
    "name": "ipython",
    "version": 3
   },
   "file_extension": ".py",
   "mimetype": "text/x-python",
   "name": "python",
   "nbconvert_exporter": "python",
   "pygments_lexer": "ipython3",
   "version": "3.6.5"
  }
 },
 "nbformat": 4,
 "nbformat_minor": 2
}
