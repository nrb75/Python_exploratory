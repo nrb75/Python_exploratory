{
 "cells": [
  {
   "cell_type": "markdown",
   "metadata": {},
   "source": [
    "Simple example on the rolling of dice. This is a 6 sided die, with equal probability of landing on each side."
   ]
  },
  {
   "cell_type": "markdown",
   "metadata": {},
   "source": [
    "1.  Create program where user can determine if they want to roll again or not. The goal is to get the highest value 1-5 without landing on a 6. They can roll as many times as they like, but if they get a 6 they lose.\n",
    "\n",
    "For a simple test case, let's make the computer keep rolling until we lose (get a 6). Then we will analyze the rolls to determine how long it takes to get a 6, on average."
   ]
  },
  {
   "cell_type": "code",
   "execution_count": 50,
   "metadata": {},
   "outputs": [],
   "source": [
    "import random\n",
    "import pandas as pd\n",
    "import matplotlib as plt\n",
    "import numpy as np\n"
   ]
  },
  {
   "cell_type": "code",
   "execution_count": 52,
   "metadata": {},
   "outputs": [],
   "source": [
    "dice=[1,2,3,4,5,6]"
   ]
  },
  {
   "cell_type": "code",
   "execution_count": 44,
   "metadata": {},
   "outputs": [],
   "source": [
    "n = 1000 #number of trials\n",
    "count=[0]*n\n",
    "\n",
    "for x in range(n):\n",
    "    count2=0 #need this initialized within the loop so it starts at 0 each time\n",
    "    while random.choice(dice)<6:\n",
    "        count2 += 1\n",
    "    count[x]=count2\n"
   ]
  },
  {
   "cell_type": "code",
   "execution_count": 1,
   "metadata": {},
   "outputs": [
    {
     "data": {
      "text/plain": [
       "range(0, 1000)"
      ]
     },
     "execution_count": 1,
     "metadata": {},
     "output_type": "execute_result"
    }
   ],
   "source": [
    "range(1000)"
   ]
  },
  {
   "cell_type": "code",
   "execution_count": 45,
   "metadata": {},
   "outputs": [
    {
     "data": {
      "text/plain": [
       "(array([499., 234., 100.,  82.,  33.,  29.,  11.,   7.,   2.,   3.]),\n",
       " array([ 0. ,  3.6,  7.2, 10.8, 14.4, 18. , 21.6, 25.2, 28.8, 32.4, 36. ]),\n",
       " <a list of 10 Patch objects>)"
      ]
     },
     "execution_count": 45,
     "metadata": {},
     "output_type": "execute_result"
    },
    {
     "data": {
      "image/png": "[encoded data removed]",
      "text/plain": [
       "<Figure size 432x288 with 1 Axes>"
      ]
     },
     "metadata": {},
     "output_type": "display_data"
    }
   ],
   "source": [
    "%matplotlib inline\n",
    "plt.pyplot.hist(count)"
   ]
  },
  {
   "cell_type": "markdown",
   "metadata": {},
   "source": [
    "This is greatly skewed data! It shows that in general, a user will roll a 6 within the first 5 rolls, as expectes since there is equal probability of landing on either side of the die."
   ]
  },
  {
   "cell_type": "markdown",
   "metadata": {},
   "source": [
    "##What if we change the probability of rolling a 1 and a 6 to be 4x less than the other numbers?\n",
    "This means the probability of the numbers are:\n",
    "1 = 5.5%\n",
    "2 = 22.23%\n",
    "3 = 22.23%\n",
    "4 = 22.23%\n",
    "5 = 22.23%\n",
    "6 = 5.5%\n"
   ]
  },
  {
   "cell_type": "code",
   "execution_count": 56,
   "metadata": {},
   "outputs": [
    {
     "data": {
      "text/plain": [
       "3"
      ]
     },
     "execution_count": 56,
     "metadata": {},
     "output_type": "execute_result"
    }
   ],
   "source": [
    "weights = [1/18, 4/18, 4/18, 4/18, 4/18, 1/18]\n",
    "rnd = np.random.choice(dice, p=weights)\n",
    "rnd"
   ]
  },
  {
   "cell_type": "code",
   "execution_count": 57,
   "metadata": {},
   "outputs": [],
   "source": [
    "n = 1000 #number of trials\n",
    "count=[0]*n\n",
    "\n",
    "for x in range(n):\n",
    "    count2=0 #need this initialized within the loop so it starts at 0 each time\n",
    "    while np.random.choice(dice, p=weights)<6:\n",
    "        count2 += 1\n",
    "    count[x]=count2\n"
   ]
  },
  {
   "cell_type": "code",
   "execution_count": 58,
   "metadata": {},
   "outputs": [
    {
     "data": {
      "text/plain": [
       "(array([538., 247., 115.,  52.,  21.,  16.,   7.,   1.,   1.,   2.]),\n",
       " array([  0. ,  12.9,  25.8,  38.7,  51.6,  64.5,  77.4,  90.3, 103.2,\n",
       "        116.1, 129. ]),\n",
       " <a list of 10 Patch objects>)"
      ]
     },
     "execution_count": 58,
     "metadata": {},
     "output_type": "execute_result"
    },
    {
     "data": {
      "image/png": "[encoded data removed]",
      "text/plain": [
       "<Figure size 432x288 with 1 Axes>"
      ]
     },
     "metadata": {},
     "output_type": "display_data"
    }
   ],
   "source": [
    "plt.pyplot.hist(count)"
   ]
  },
  {
   "cell_type": "markdown",
   "metadata": {},
   "source": [
    "Now, as expected, it is taking many more rolls of the dice to reach 6"
   ]
  }
 ],
 "metadata": {
  "kernelspec": {
   "display_name": "Python 3",
   "language": "python",
   "name": "python3"
  },
  "language_info": {
   "codemirror_mode": {
    "name": "ipython",
    "version": 3
   },
   "file_extension": ".py",
   "mimetype": "text/x-python",
   "name": "python",
   "nbconvert_exporter": "python",
   "pygments_lexer": "ipython3",
   "version": "3.6.6"
  }
 },
 "nbformat": 4,
 "nbformat_minor": 2
}
